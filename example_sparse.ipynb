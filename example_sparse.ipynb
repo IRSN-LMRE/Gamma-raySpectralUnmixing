{
 "cells": [
  {
   "cell_type": "markdown",
   "metadata": {},
   "source": [
    "## Poisson based greedy algorithm to identify active radionuclides"
   ]
  },
  {
   "cell_type": "code",
   "execution_count": 1,
   "metadata": {},
   "outputs": [],
   "source": [
    "import scipy.io as sio\n",
    "import numpy as np\n",
    "import matplotlib.pyplot as plt\n",
    "from script_unmix.unmix_algo import chambolle_pock\n",
    "from script_unmix.select_rn import ompPoisson\n",
    "from utils.operators import prox_Nonnegative,Lpoisson,dual_prox,grad_LS"
   ]
  },
  {
   "cell_type": "markdown",
   "metadata": {},
   "source": [
    "## Dictionary of spectral signatures \n",
    "- the dictionary contains 10 radionuclides that may composed a measured spectrum\n",
    "- each spectrum is composed of 16173 channels"
   ]
  },
  {
   "cell_type": "code",
   "execution_count": 2,
   "metadata": {},
   "outputs": [],
   "source": [
    "num = 16173\n",
    "phi_dic = np.zeros((num,10))\n",
    "phi_dic[:,0] = sio.loadmat('synthetic_data/Be7.mat')['counts']\n",
    "phi_dic[:,1] = sio.loadmat('synthetic_data/Na22.mat')['counts']\n",
    "phi_dic[:,2] = sio.loadmat('synthetic_data/K40.mat')['counts']\n",
    "phi_dic[:,3] = sio.loadmat('synthetic_data/Cs137.mat')['counts']\n",
    "phi_dic[:,4] = sio.loadmat('synthetic_data/Pb210.mat')['counts']\n",
    "phi_dic[:,5] = sio.loadmat('synthetic_data/Tl208.mat')['counts']\n",
    "phi_dic[:,6] = sio.loadmat('synthetic_data/Bi212.mat')['counts']\n",
    "phi_dic[:,7] = sio.loadmat('synthetic_data/Pb212.mat')['counts']\n",
    "phi_dic[:,8] = sio.loadmat('synthetic_data/Bi214.mat')['counts']\n",
    "phi_dic[:,9] = sio.loadmat('synthetic_data/Pb214.mat')['counts']"
   ]
  },
  {
   "cell_type": "markdown",
   "metadata": {},
   "source": [
    "## Generate simulated gamma spectrum:\n",
    "- 5 radionuclides + a background spectrum\n",
    "- the measured spectrum is composed of 16173 channels"
   ]
  },
  {
   "cell_type": "code",
   "execution_count": 3,
   "metadata": {},
   "outputs": [],
   "source": [
    "num = 16173\n",
    "phi_sig = np.zeros((num,5))\n",
    "phi_sig[:,0] = sio.loadmat('synthetic_data/Be7.mat')['counts']\n",
    "phi_sig[:,1] = sio.loadmat('synthetic_data/Na22.mat')['counts']\n",
    "phi_sig[:,2] = sio.loadmat('synthetic_data/K40.mat')['counts']\n",
    "phi_sig[:,3] = sio.loadmat('synthetic_data/Cs137.mat')['counts']\n",
    "phi_sig[:,4] = sio.loadmat('synthetic_data/Pb210.mat')['counts']\n",
    "b = np.load('synthetic_data/b.npy')\n",
    "a0 = np.load('synthetic_data/a0.npy')\n",
    "x = np.random.poisson(phi_sig@a0+b)"
   ]
  },
  {
   "cell_type": "markdown",
   "metadata": {},
   "source": [
    "## Indentification and quantification of the 5 active radionuclides with Poisson-based OMP algorithm\n",
    "- the multiplicative update algorithm allows faster convergence\n"
   ]
  },
  {
   "cell_type": "code",
   "execution_count": 4,
   "metadata": {},
   "outputs": [],
   "source": [
    "def algo_cp(phi_in,n_item=0,tol=1e-10,verb=True):\n",
    "    phi = np.copy(phi_in)\n",
    "    N = np.linalg.norm(np.dot(phi.T,phi))\n",
    "    phi = phi/N\n",
    "    L = np.linalg.norm(np.dot(phi.T,phi),ord=2)\n",
    "    sigma = 1e-4\n",
    "    tau = (.9/(sigma*L))\n",
    "\n",
    "    nP = np.shape(phi)\n",
    "    a_initial = 1./nP[1]*np.ones((nP[1]))\n",
    "    K = lambda y: np.dot(phi,y)\n",
    "    KT = lambda y: np.dot(phi.T,y)\n",
    "    prox_g = prox_Nonnegative\n",
    "    prox_f = lambda a,step:Lpoisson(a+b,step)(x)-b\n",
    "    prox_fC = lambda u,sigma: dual_prox(prox_f)(u,sigma)\n",
    "    a_estim,a_list = chambolle_pock(prox_fC, prox_g, a_initial, K, KT, sigma,tau,n_item=n_item,tol=tol,verb=verb,error_list=False)\n",
    "    a_estim = a_estim/N\n",
    "    return a_estim\n",
    "def algoMulti(Phi,n_item=100,verb=True): \n",
    "    nP = np.shape(Phi)\n",
    "    a = 1./nP[1]*np.ones((nP[1],1))\n",
    "    diff = np.linalg.norm(a)\n",
    "    dPhi = np.sum(Phi,axis=0)\n",
    "    \n",
    "    for r in range(n_item):\n",
    "        a_new =a*(np.diag(1./dPhi)@(Phi.T@(x.reshape(-1,1)/(Phi@a + b.reshape(-1,1)))))\n",
    "        diff = np.linalg.norm(a-a_new)/np.linalg.norm(a)\n",
    "        if verb:\n",
    "            print(\"It. #\",r,' - ',diff)\n",
    "        a = np.copy(a_new)\n",
    "    return a[:,0]"
   ]
  },
  {
   "cell_type": "code",
   "execution_count": 5,
   "metadata": {},
   "outputs": [
    {
     "name": "stdout",
     "output_type": "stream",
     "text": [
      "Deviance :  -4470722.116245281 / -20440068.226957303 - selected this turn :  0\n",
      "Deviance :  -20440068.226957303 / -20654739.052421935 - selected this turn :  4\n",
      "Deviance :  -20654739.052421935 / -20662637.993787676 - selected this turn :  1\n",
      "Deviance :  -20662637.993787676 / -20666905.297516864 - selected this turn :  2\n",
      "Deviance :  -20666905.297516864 / -20667219.320302106 - selected this turn :  3\n"
     ]
    }
   ],
   "source": [
    "algo_unmix = lambda z: algoMulti(Phi=z,n_item=1000,verb=False)\n",
    "RN = ompPoisson(x=x,Phi=phi_dic,bdf=b,alpha=0.1,algo_unmix=algo_unmix).algo_selection()"
   ]
  },
  {
   "cell_type": "code",
   "execution_count": null,
   "metadata": {},
   "outputs": [],
   "source": [
    "algo_unmix = lambda z: algo_cp(phi_in=z,n_item=20000,tol=1e-10,verb=False)\n",
    "RN = ompPoisson(x=x,Phi=phi_dic,bdf=b,alpha=0.1,algo_unmix=algo_unmix).algo_selection()"
   ]
  },
  {
   "cell_type": "code",
   "execution_count": null,
   "metadata": {},
   "outputs": [],
   "source": []
  }
 ],
 "metadata": {
  "kernelspec": {
   "display_name": "Python 3",
   "language": "python",
   "name": "python3"
  },
  "language_info": {
   "codemirror_mode": {
    "name": "ipython",
    "version": 3
   },
   "file_extension": ".py",
   "mimetype": "text/x-python",
   "name": "python",
   "nbconvert_exporter": "python",
   "pygments_lexer": "ipython3",
   "version": "3.6.3"
  }
 },
 "nbformat": 4,
 "nbformat_minor": 2
}
